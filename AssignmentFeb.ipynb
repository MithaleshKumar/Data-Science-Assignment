{
 "cells": [
  {
   "cell_type": "markdown",
   "id": "274ed8c1-ed54-414e-b5e8-f1f49427264c",
   "metadata": {},
   "source": [
    "# Q1. What are the characteristics of the tuples? Is tuple immutable?\n",
    "### Characteristics of tuple:-"
   ]
  },
  {
   "cell_type": "markdown",
   "id": "0e5c7c68-7734-4d34-9816-beab5d4419f9",
   "metadata": {},
   "source": [
    "(a) It can store multiple element even that element can be of different type."
   ]
  },
  {
   "cell_type": "code",
   "execution_count": 1,
   "id": "68926a0b-02cf-4cc2-9370-22cbabd278ce",
   "metadata": {},
   "outputs": [
    {
     "name": "stdout",
     "output_type": "stream",
     "text": [
      "('1', 1, True, 5) <class 'tuple'>\n"
     ]
    }
   ],
   "source": [
    "t=(\"1\",1,True,5)\n",
    "print(t,type(t))"
   ]
  },
  {
   "cell_type": "markdown",
   "id": "374ef972-d51d-4b6a-9900-2519a9cd7683",
   "metadata": {},
   "source": [
    "(b) It allows duplicate values & works on 0 based index."
   ]
  },
  {
   "cell_type": "code",
   "execution_count": 2,
   "id": "1b565adc-ebf6-45ff-9611-286885dd6135",
   "metadata": {},
   "outputs": [
    {
     "name": "stdout",
     "output_type": "stream",
     "text": [
      "(1, 1, True, 5) <class 'tuple'>\n",
      "1 1 True 5 "
     ]
    }
   ],
   "source": [
    "t=(1,1,True,5)\n",
    "print(t,type(t))\n",
    "for i in t:\n",
    "    print(i,end=\" \")"
   ]
  },
  {
   "cell_type": "markdown",
   "id": "f1994e4a-03c2-4e6f-bd23-1078ab7036a8",
   "metadata": {},
   "source": [
    "(c) when we create the tuple with single element,we have to take care that element should be with comma."
   ]
  },
  {
   "cell_type": "code",
   "execution_count": 1,
   "id": "bcf5ee6b-0f24-486d-8aa4-f3bab7bdec1b",
   "metadata": {},
   "outputs": [
    {
     "name": "stdout",
     "output_type": "stream",
     "text": [
      "2 <class 'int'>\n"
     ]
    }
   ],
   "source": [
    "t=(2)                      # Thsi is not tuple\n",
    "print(t,type(t))"
   ]
  },
  {
   "cell_type": "code",
   "execution_count": 3,
   "id": "480b7c64-f1ca-44d3-80f7-81f11bff2d44",
   "metadata": {},
   "outputs": [
    {
     "name": "stdout",
     "output_type": "stream",
     "text": [
      "(2,) <class 'tuple'>\n"
     ]
    }
   ],
   "source": [
    "t=(2,)                      # Thsi is  tuple\n",
    "print(t,type(t))"
   ]
  },
  {
   "cell_type": "markdown",
   "id": "139b7847-9d5a-4c63-b15c-eeaa4b19daaa",
   "metadata": {},
   "source": [
    "(d) Tuples are immutable"
   ]
  },
  {
   "cell_type": "code",
   "execution_count": 4,
   "id": "2f6b5361-a115-4895-81f3-adeaaf79108a",
   "metadata": {},
   "outputs": [
    {
     "data": {
      "text/plain": [
       "True"
      ]
     },
     "execution_count": 4,
     "metadata": {},
     "output_type": "execute_result"
    }
   ],
   "source": [
    "t=(1,1,True,5)\n",
    "t[2]"
   ]
  },
  {
   "cell_type": "code",
   "execution_count": 5,
   "id": "e4f821fc-ad0a-4d32-b974-e2dd456addde",
   "metadata": {},
   "outputs": [
    {
     "ename": "TypeError",
     "evalue": "'tuple' object does not support item assignment",
     "output_type": "error",
     "traceback": [
      "\u001b[0;31m---------------------------------------------------------------------------\u001b[0m",
      "\u001b[0;31mTypeError\u001b[0m                                 Traceback (most recent call last)",
      "Cell \u001b[0;32mIn[5], line 1\u001b[0m\n\u001b[0;32m----> 1\u001b[0m \u001b[43mt\u001b[49m\u001b[43m[\u001b[49m\u001b[38;5;241;43m2\u001b[39;49m\u001b[43m]\u001b[49m\u001b[38;5;241m=\u001b[39m\u001b[38;5;28;01mFalse\u001b[39;00m\n",
      "\u001b[0;31mTypeError\u001b[0m: 'tuple' object does not support item assignment"
     ]
    }
   ],
   "source": [
    "t[2]=False"
   ]
  },
  {
   "cell_type": "code",
   "execution_count": null,
   "id": "3e141932-d591-4fe3-908b-c576a6f5e411",
   "metadata": {},
   "outputs": [],
   "source": []
  },
  {
   "cell_type": "code",
   "execution_count": null,
   "id": "d3e67763-8107-477e-8549-c1cb8d7668f8",
   "metadata": {},
   "outputs": [],
   "source": []
  },
  {
   "cell_type": "code",
   "execution_count": null,
   "id": "610e1114-1530-466c-b253-8b00597e64d7",
   "metadata": {},
   "outputs": [],
   "source": []
  },
  {
   "cell_type": "markdown",
   "id": "d079a943-ef9c-4946-aaab-a41bf60ca5d5",
   "metadata": {
    "tags": []
   },
   "source": [
    "# Q2. What are the two tuple methods in python? Give an example of each method. Give a reason why tuples have only two in-built methods as compared to Lists."
   ]
  },
  {
   "cell_type": "markdown",
   "id": "eae2e65b-15d5-479c-8b3f-a52d35f576f9",
   "metadata": {},
   "source": [
    "## Method in tuple."
   ]
  },
  {
   "cell_type": "markdown",
   "id": "15e6f57e-b86f-45c6-90b0-6431bf2c87d0",
   "metadata": {},
   "source": [
    "### (i) count() :-"
   ]
  },
  {
   "cell_type": "code",
   "execution_count": 14,
   "id": "0e158af0-4804-45b0-b0ce-c4722831306f",
   "metadata": {},
   "outputs": [
    {
     "data": {
      "text/plain": [
       "(1, 2, 2, 4, 5, 5, 5)"
      ]
     },
     "execution_count": 14,
     "metadata": {},
     "output_type": "execute_result"
    }
   ],
   "source": [
    "t=(1,2,2,4,5,5,5)\n",
    "t"
   ]
  },
  {
   "cell_type": "code",
   "execution_count": 15,
   "id": "964f25c4-4e6a-404a-9a24-9c1c0a6b722f",
   "metadata": {},
   "outputs": [
    {
     "data": {
      "text/plain": [
       "3"
      ]
     },
     "execution_count": 15,
     "metadata": {},
     "output_type": "execute_result"
    }
   ],
   "source": [
    "t.count(5)"
   ]
  },
  {
   "cell_type": "markdown",
   "id": "1d2330ee-0390-48f9-8673-1ad995d4f05c",
   "metadata": {},
   "source": [
    "### (ii) index() :-"
   ]
  },
  {
   "cell_type": "code",
   "execution_count": 16,
   "id": "186d769d-2210-4726-a3f7-01d41144840d",
   "metadata": {},
   "outputs": [
    {
     "data": {
      "text/plain": [
       "3"
      ]
     },
     "execution_count": 16,
     "metadata": {},
     "output_type": "execute_result"
    }
   ],
   "source": [
    "t.index(4)"
   ]
  },
  {
   "cell_type": "code",
   "execution_count": 18,
   "id": "3bf02e04-7266-46f7-b5c4-56f07b08cf0c",
   "metadata": {},
   "outputs": [
    {
     "data": {
      "text/plain": [
       "4"
      ]
     },
     "execution_count": 18,
     "metadata": {},
     "output_type": "execute_result"
    }
   ],
   "source": [
    "t.index(5)"
   ]
  },
  {
   "cell_type": "markdown",
   "id": "e14a3516-1333-4e6a-8316-39160153187a",
   "metadata": {},
   "source": [
    "\n",
    "### tuples have only two in-built methods as compared to Lists because tuple is immutable and list is mutable.\n"
   ]
  },
  {
   "cell_type": "markdown",
   "id": "9183711e-66c6-4f42-aece-b399d27c23d5",
   "metadata": {},
   "source": [
    "\n",
    "\n",
    "\n",
    "\n",
    "\n",
    "# Q3.  Which collection datatypes in python do not allow duplicate items? Write a code using a set to remove duplicates from the given list"
   ]
  },
  {
   "cell_type": "markdown",
   "id": "38a21ce7-a7ec-43de-a024-e83935da9716",
   "metadata": {},
   "source": [
    "## Ans :-  In the python set datatypes do not alloe duplicate items."
   ]
  },
  {
   "cell_type": "markdown",
   "id": "51a5a7da-a8ac-4947-ab9c-a75f7b8a5b16",
   "metadata": {},
   "source": [
    "## Ex :-"
   ]
  },
  {
   "cell_type": "code",
   "execution_count": 23,
   "id": "f9adc423-cd59-4bfe-877b-23632b4e62ed",
   "metadata": {},
   "outputs": [
    {
     "name": "stdout",
     "output_type": "stream",
     "text": [
      "Before removing duplicate element list is  : [1, 1, 1, 2, 1, 3, 1, 4, 2, 1, 2, 2, 2, 3, 2, 4, 3, 1, 3, 2, 3, 3, 3, 4, 4, 1, 4, 2, 4, 3, 4, 4]\n",
      "After removing the duplicate element the list is [1, 2, 3, 4]\n"
     ]
    }
   ],
   "source": [
    "list1 = [1, 1, 1, 2, 1, 3, 1, 4, 2, 1, 2, 2, 2, 3, 2, 4, 3, 1, 3, 2, 3, 3, 3, 4, 4, 1, 4, 2, 4, 3, 4, 4]\n",
    "print(\"Before removing duplicate element list is  :\",list1 )\n",
    "\n",
    "print(\"After removing the duplicate element the list is\",list(set(list1)))"
   ]
  },
  {
   "cell_type": "markdown",
   "id": "6eb8871d-c15c-40b0-8511-2aebbd0e4bd9",
   "metadata": {},
   "source": [
    "# Q4. Explain the difference between the union() and update() methods for a set. Give an example of each method"
   ]
  },
  {
   "cell_type": "markdown",
   "id": "c70e2f87-f3ed-4b8b-996f-612c4e3296c0",
   "metadata": {},
   "source": [
    "## Ans:- Both method are used to combine the two set but difference is that union return new set with unique element after combine but update return the set with unique element  on which method is called after combination. "
   ]
  },
  {
   "cell_type": "markdown",
   "id": "1d8c560d-68dd-43e7-8303-5333490a7ae7",
   "metadata": {},
   "source": [
    "## Example of union() :-"
   ]
  },
  {
   "cell_type": "code",
   "execution_count": 26,
   "id": "00f5d2e1-1133-4599-a910-2786fa657cb8",
   "metadata": {},
   "outputs": [
    {
     "name": "stdout",
     "output_type": "stream",
     "text": [
      "Final set is :-  {1, 2, 3, 4, 5, 7, 8}\n"
     ]
    }
   ],
   "source": [
    "s1={1,2,3,4,5}\n",
    "s2={3,2,4,7,8}\n",
    "\n",
    "s3=s1.union(s2)                            # Taking new variable\n",
    "\n",
    "print(\"Final set is :- \",s3)\n"
   ]
  },
  {
   "cell_type": "markdown",
   "id": "38baa12a-507f-41a4-b687-0d6487534f44",
   "metadata": {},
   "source": [
    "## Example of update() :-"
   ]
  },
  {
   "cell_type": "code",
   "execution_count": 28,
   "id": "0a99a411-c5c5-41f4-bc3d-4e6b68779a8d",
   "metadata": {},
   "outputs": [
    {
     "name": "stdout",
     "output_type": "stream",
     "text": [
      "Final set is :-  {1, 2, 3, 4, 5, 7, 8}\n"
     ]
    }
   ],
   "source": [
    "s1={1,2,3,4,5}\n",
    "s2={3,2,4,7,8}\n",
    "\n",
    "s1.update(s2)\n",
    "print(\"Final set is :- \",s1)\n"
   ]
  },
  {
   "cell_type": "markdown",
   "id": "517e321c-2b90-4711-9768-ca8b2e2a7267",
   "metadata": {},
   "source": [
    "\n",
    "# Q5. What is a dictionary? Give an example. Also, state whether a dictionary is ordered or unordered."
   ]
  },
  {
   "cell_type": "markdown",
   "id": "0026201c-5380-4231-9538-96b8e956034f",
   "metadata": {},
   "source": [
    "## Ans :- "
   ]
  },
  {
   "cell_type": "markdown",
   "id": "3e68bf6d-406f-404b-ac35-5cb980be19f2",
   "metadata": {},
   "source": [
    "### (a) dictionary is the datatype in the pyhton which store the item in the form of key and value like (key:value).\n"
   ]
  },
  {
   "cell_type": "code",
   "execution_count": 29,
   "id": "c6802225-b32f-4169-a2ba-457532473591",
   "metadata": {},
   "outputs": [
    {
     "name": "stdout",
     "output_type": "stream",
     "text": [
      "{'1': 'mithalesh kumar', '2': 'Mohit kumar', '3': 2004}\n"
     ]
    }
   ],
   "source": [
    "dict1 = {\n",
    "  \"1\": \"mithalesh kumar\",\n",
    "  \"2\": \"Mohit kumar\",\n",
    "  \"3\": 2004\n",
    "}\n",
    "print(dict1)"
   ]
  },
  {
   "cell_type": "markdown",
   "id": "d47d6a12-0da5-4d08-a155-4a79479484bb",
   "metadata": {},
   "source": [
    "### (b) dictionary written within curly brices like({keus:items}).\n"
   ]
  },
  {
   "cell_type": "code",
   "execution_count": 30,
   "id": "4c93e5fe-cd2b-48fa-997b-f5bf9063f6a7",
   "metadata": {},
   "outputs": [
    {
     "name": "stdout",
     "output_type": "stream",
     "text": [
      "{'1': 'mithalesh kumar', '2': 'Mohit kumar', '3': 2004}\n"
     ]
    }
   ],
   "source": [
    "dict1 = {\n",
    "  \"1\": \"mithalesh kumar\",\n",
    "  \"2\": \"Mohit kumar\",\n",
    "  \"3\": 2004\n",
    "}\n",
    "print(dict1)"
   ]
  },
  {
   "cell_type": "markdown",
   "id": "dee05754-374a-4754-b1b3-47bbca8873be",
   "metadata": {},
   "source": [
    "### (c) dictionary is mutable"
   ]
  },
  {
   "cell_type": "code",
   "execution_count": 32,
   "id": "c4a3f491-206b-4720-9881-ff8d3366bb6c",
   "metadata": {},
   "outputs": [
    {
     "name": "stdout",
     "output_type": "stream",
     "text": [
      "{'1': 'mithalesh kumar', '2': 'Mohit kumar', '3': 2004, 1: 'mithalesh kumar'}\n"
     ]
    }
   ],
   "source": [
    "dict1 = {\n",
    "  \"1\": \"mithalesh kumar\",\n",
    "  \"2\": \"Mohit kumar\",\n",
    "  \"3\": 2004\n",
    "}\n",
    "\n",
    "dict1[1]='mithalesh kumar'              # Adding key and values\n",
    "print(dict1)"
   ]
  },
  {
   "cell_type": "code",
   "execution_count": 34,
   "id": "93cb687f-eac7-4b70-b90d-2ba98d291069",
   "metadata": {},
   "outputs": [
    {
     "name": "stdout",
     "output_type": "stream",
     "text": [
      "{'2': 'Mohit kumar', '3': 2004}\n"
     ]
    }
   ],
   "source": [
    "dict1 = {\n",
    "  \"1\": \"mithalesh kumar\",\n",
    "  \"2\": \"Mohit kumar\",\n",
    "  \"3\": 2004\n",
    "}\n",
    "del dict1['1']                         # deleting the key and value\n",
    "print(dict1)"
   ]
  },
  {
   "cell_type": "markdown",
   "id": "2f4edb09-af56-4a53-b487-31b48f81ec5a",
   "metadata": {},
   "source": [
    "### (d) Duplicates are not allowed."
   ]
  },
  {
   "cell_type": "code",
   "execution_count": 37,
   "id": "07a47cc7-d257-48db-b922-6f3dd7621323",
   "metadata": {},
   "outputs": [
    {
     "name": "stdout",
     "output_type": "stream",
     "text": [
      "{'1': 'mithalesh kumar', '2': 'Mohit kumar', '3': 2004}\n"
     ]
    }
   ],
   "source": [
    "dict1 = {\n",
    "  \"1\": \"mithalesh kumar\",\n",
    "  \"2\": \"Mohit kumar\",\n",
    "  \"3\": 2004,\n",
    "    \"3\":2004\n",
    "}\n",
    "print(dict1)\n"
   ]
  },
  {
   "cell_type": "markdown",
   "id": "3c25c432-de70-423d-b5e3-963da679e656",
   "metadata": {},
   "source": [
    "### (e) For accessing the value of dictionary we use to refer keyname,inside the bricket with dictionary name."
   ]
  },
  {
   "cell_type": "markdown",
   "id": "5c495ae6-165d-4e24-ad8b-7731cc0c24f9",
   "metadata": {},
   "source": [
    "dict1 = {\n",
    "  \"1\": \"mithalesh kumar\",\n",
    "  \"2\": \"Mohit kumar\",\n",
    "  \"3\": 2004,\n",
    "    \"3\":2004\n",
    "}\n",
    "print(dict1[\"1\"])\n"
   ]
  },
  {
   "cell_type": "markdown",
   "id": "d5d8d54e-b9b6-4407-8e1f-aa48d167a71e",
   "metadata": {},
   "source": [
    "# Q6. Can we create a nested dictionary? If so, please give an example by creating a simple one-level nested dictionary."
   ]
  },
  {
   "cell_type": "markdown",
   "id": "111d71fa-05ba-44a8-8de5-e9d413481622",
   "metadata": {},
   "source": [
    "## Ans :-  Yes we can create a nested dictionary."
   ]
  },
  {
   "cell_type": "markdown",
   "id": "1ca0a09e-6660-4e7b-9ecc-08f8c10bc73a",
   "metadata": {},
   "source": [
    "### Example :- "
   ]
  },
  {
   "cell_type": "code",
   "execution_count": 45,
   "id": "6476cc27-1cd2-41a1-b19e-6557437802c3",
   "metadata": {},
   "outputs": [
    {
     "name": "stdout",
     "output_type": "stream",
     "text": [
      "Dictionary is :-  {'name': {'myname': 'Mithalesh kumar', 'fname': 'Madho tanti', 'mname': 'XXXXXXXXXXXXXXX'}, 'Roll': 26, 'course': 'BCA'} \n",
      "\n",
      "The value of nested dictionary is:-  {'myname': 'Mithalesh kumar', 'fname': 'Madho tanti', 'mname': 'XXXXXXXXXXXXXXX'}\n"
     ]
    }
   ],
   "source": [
    "dict1 = {\n",
    " 'name':{'myname':'Mithalesh kumar','fname':'Madho tanti','mname':\"XXXXXXXXXXXXXXX\"},\n",
    "    'Roll':26,\n",
    "    'course':'BCA'\n",
    "}\n",
    "print(\"Dictionary is :- \",dict1,\"\\n\")\n",
    "\n",
    "print(\"The value of nested dictionary is:- \",dict1[\"name\"])\n"
   ]
  },
  {
   "cell_type": "code",
   "execution_count": null,
   "id": "77460b08-7b4a-4a56-bd80-ab97adb1dc64",
   "metadata": {},
   "outputs": [],
   "source": []
  },
  {
   "cell_type": "markdown",
   "id": "5288ab5b-51c1-4d62-8f8a-9db547862c0d",
   "metadata": {},
   "source": [
    "# Using setdefault() method, create key named topics in the given dictionary and also add the value of the key as this list ['Python', 'Machine Learning’, 'Deep Learning']\n",
    "# dict1 = {'language' : 'Python', 'course': 'Data Science Masters'}"
   ]
  },
  {
   "cell_type": "code",
   "execution_count": 24,
   "id": "287df386-6ae9-4f82-a428-7cbcd8f36cf9",
   "metadata": {},
   "outputs": [
    {
     "ename": "SyntaxError",
     "evalue": "unterminated string literal (detected at line 2) (1456032392.py, line 2)",
     "output_type": "error",
     "traceback": [
      "\u001b[0;36m  Cell \u001b[0;32mIn[24], line 2\u001b[0;36m\u001b[0m\n\u001b[0;31m    dict1.setdefault(\"impcourse\",['Python', 'Machine Learning’])\u001b[0m\n\u001b[0m                                            ^\u001b[0m\n\u001b[0;31mSyntaxError\u001b[0m\u001b[0;31m:\u001b[0m unterminated string literal (detected at line 2)\n"
     ]
    }
   ],
   "source": [
    "dict1 = {'language' : 'Python', 'course': 'Data Science Masters'}\n",
    "dict1.setdefault(\"impcourse\",['Python', 'Machine Learning’])"
   ]
  },
  {
   "cell_type": "markdown",
   "id": "b49b0703-ae0f-48c9-997b-2455a270db26",
   "metadata": {},
   "source": [
    "# Q8. What are the three view objects in dictionaries? Use the three in-built methods in python to display these three view objects for the given dictionary.\n",
    "# dict1 = {'Sport': 'Cricket' , 'Teams': ['India', 'Australia', 'England', 'South Africa', 'Sri Lanka', 'New Zealand']}"
   ]
  },
  {
   "cell_type": "markdown",
   "id": "206fb4d9-bd97-482c-bf2c-be130647c690",
   "metadata": {
    "tags": []
   },
   "source": [
    "### Ans :- Three view objects are.\n",
    "###      (a) keys()\n",
    "###      (b) values()\n",
    "###      (c) items()"
   ]
  },
  {
   "cell_type": "markdown",
   "id": "18760db4-1283-4867-9b99-9d9eeed6c6a7",
   "metadata": {},
   "source": [
    "###  (a) :- "
   ]
  },
  {
   "cell_type": "code",
   "execution_count": 25,
   "id": "9f8327ac-8834-4341-92d0-192d397ee5e6",
   "metadata": {},
   "outputs": [
    {
     "name": "stdout",
     "output_type": "stream",
     "text": [
      "['Sport', 'Teams']\n"
     ]
    }
   ],
   "source": [
    "dict1 = {'Sport': 'Cricket' , 'Teams': ['India', 'Australia', 'England', 'South Africa', 'Sri Lanka', 'New Zealand']}\n",
    "print(list(dict1.keys()))"
   ]
  },
  {
   "cell_type": "markdown",
   "id": "5a6bae45-d380-4fae-81b5-e717e66f1661",
   "metadata": {},
   "source": [
    "### (b) :- "
   ]
  },
  {
   "cell_type": "code",
   "execution_count": 8,
   "id": "ab7dc391-5878-4b1c-878e-806f3c16a48f",
   "metadata": {},
   "outputs": [
    {
     "name": "stdout",
     "output_type": "stream",
     "text": [
      "['Cricket', ['India', 'Australia', 'England', 'South Africa', 'Sri Lanka', 'New Zealand']]\n"
     ]
    }
   ],
   "source": [
    "dict1 = {'Sport': 'Cricket' , '(Teams': ['India', 'Australia', 'England', 'South Africa', 'Sri Lanka', 'New Zealand']}\n",
    "print(list(dict1.values()))"
   ]
  },
  {
   "cell_type": "markdown",
   "id": "d6704903-ca39-4254-b858-9d6399d02a72",
   "metadata": {},
   "source": [
    "### (c) :- "
   ]
  },
  {
   "cell_type": "code",
   "execution_count": 9,
   "id": "787ad31d-10c0-4dfa-b1be-75b961f3c893",
   "metadata": {},
   "outputs": [
    {
     "name": "stdout",
     "output_type": "stream",
     "text": [
      "[('Sport', 'Cricket'), ('(Teams', ['India', 'Australia', 'England', 'South Africa', 'Sri Lanka', 'New Zealand'])]\n"
     ]
    }
   ],
   "source": [
    "dict1 = {'Sport': 'Cricket' , '(Teams': ['India', 'Australia', 'England', 'South Africa', 'Sri Lanka', 'New Zealand']}\n",
    "print(list(dict1.items()))"
   ]
  },
  {
   "cell_type": "markdown",
   "id": "b8cb7de4-8695-4114-abff-1971118bacc1",
   "metadata": {},
   "source": [
    "\n",
    "### To retrieve some data or perform various operations on these view objects, there are some build-in functions in python that are supported. They are as follows −\n",
    "\n",
    "### (I). len(obj)\n",
    "\n",
    "### (II). reversed(obj)\n",
    "\n",
    "### (III). sorted(obj)\n"
   ]
  },
  {
   "cell_type": "code",
   "execution_count": 14,
   "id": "a17005b8-16fb-45c1-a54e-5879b4f2c1c4",
   "metadata": {},
   "outputs": [
    {
     "name": "stdout",
     "output_type": "stream",
     "text": [
      "2\n",
      "['Sport', 'Teams']\n",
      "['Teams', 'Sport']\n"
     ]
    }
   ],
   "source": [
    "dict1 = {'Sport': 'Cricket' , 'Teams': ['India', 'Australia', 'England', 'South Africa', 'Sri Lanka', 'New Zealand']}\n",
    "print(len(dict1.keys()))\n",
    "print(sorted(dict1.keys()))\n",
    "print(list(reversed(dict1.keys())))"
   ]
  },
  {
   "cell_type": "code",
   "execution_count": 17,
   "id": "d298acd9-906e-4c84-8ecb-c936c2e05b7a",
   "metadata": {},
   "outputs": [
    {
     "name": "stdout",
     "output_type": "stream",
     "text": [
      "2\n",
      "[['India', 'Australia', 'England', 'South Africa', 'Sri Lanka', 'New Zealand'], 'Cricket']\n"
     ]
    }
   ],
   "source": [
    "dict1 = {'Sport': 'Cricket' , 'Teams': ['India', 'Australia', 'England', 'South Africa', 'Sri Lanka', 'New Zealand']}\n",
    "print(len(dict1.values()))\n",
    "# print(sorted(dict1.values()))\n",
    "print(list(reversed(dict1.values())))"
   ]
  },
  {
   "cell_type": "code",
   "execution_count": 19,
   "id": "2b968383-107b-4a77-a926-54ff5dfb68f4",
   "metadata": {},
   "outputs": [
    {
     "name": "stdout",
     "output_type": "stream",
     "text": [
      "2\n",
      "[('Sport', 'Cricket'), ('Teams', ['India', 'Australia', 'England', 'South Africa', 'Sri Lanka', 'New Zealand'])]\n",
      "[('Teams', ['India', 'Australia', 'England', 'South Africa', 'Sri Lanka', 'New Zealand']), ('Sport', 'Cricket')]\n"
     ]
    }
   ],
   "source": [
    "dict1 = {'Sport': 'Cricket' , 'Teams': ['India', 'Australia', 'England', 'South Africa', 'Sri Lanka', 'New Zealand']}\n",
    "print(len(dict1.items()))\n",
    "print(sorted(dict1.items()))\n",
    "print(list(reversed(dict1.items())))"
   ]
  },
  {
   "cell_type": "code",
   "execution_count": null,
   "id": "e83c6bd2-bafa-4a4d-82a2-5209ac5f9184",
   "metadata": {},
   "outputs": [],
   "source": []
  }
 ],
 "metadata": {
  "kernelspec": {
   "display_name": "Python 3 (ipykernel)",
   "language": "python",
   "name": "python3"
  },
  "language_info": {
   "codemirror_mode": {
    "name": "ipython",
    "version": 3
   },
   "file_extension": ".py",
   "mimetype": "text/x-python",
   "name": "python",
   "nbconvert_exporter": "python",
   "pygments_lexer": "ipython3",
   "version": "3.10.8"
  }
 },
 "nbformat": 4,
 "nbformat_minor": 5
}
