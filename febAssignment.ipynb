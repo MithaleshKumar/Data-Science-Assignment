{
 "cells": [
  {
   "cell_type": "markdown",
   "id": "288956a5-f4a7-4a25-a09f-9c2e559b64cb",
   "metadata": {},
   "source": [
    "# Q1. Which keyword is used to create a function? Create a function to return a list of odd numbers in the range of 1 to 25"
   ]
  },
  {
   "cell_type": "markdown",
   "id": "3d134d71-12c3-420b-b0d9-e53cd9904e8a",
   "metadata": {},
   "source": [
    "### Ans:- def keyword is used to create a function in python."
   ]
  },
  {
   "cell_type": "code",
   "execution_count": 1,
   "id": "c0eb9b97-f001-4349-89c7-1de6372b853d",
   "metadata": {},
   "outputs": [
    {
     "data": {
      "text/plain": [
       "[1, 3, 5, 7, 9, 11, 13, 15, 17, 19, 21, 23, 25]"
      ]
     },
     "execution_count": 1,
     "metadata": {},
     "output_type": "execute_result"
    }
   ],
   "source": [
    "def oddNumber():\n",
    "    list1=[]\n",
    "    for i in range(1,26):\n",
    "        if(i % 2==0):\n",
    "            pass\n",
    "        else:\n",
    "            list1.append(i)\n",
    "    return list1\n",
    "\n",
    "oddNumber()\n",
    "            "
   ]
  },
  {
   "cell_type": "markdown",
   "id": "c4d4d5fb-e1cc-4101-8155-153d43af89d4",
   "metadata": {},
   "source": [
    "# Q2. Why *args and **kwargs is used in some functions? Create a function each for *args and **kwargs to demonstrate their use"
   ]
  },
  {
   "cell_type": "markdown",
   "id": "332c1497-27a2-4a30-93c3-427a8adc12c2",
   "metadata": {},
   "source": [
    "### Ans:- *args-It is used to handle more than one parameter. and **kwargs is used to handle dictionary kind of parameter."
   ]
  },
  {
   "cell_type": "markdown",
   "id": "f737b12d-c431-4074-9a2c-bd29292496ec",
   "metadata": {},
   "source": [
    "### Function for *args :-\n"
   ]
  },
  {
   "cell_type": "code",
   "execution_count": 6,
   "id": "070b747f-2ac4-47c8-8108-d35835a4c29e",
   "metadata": {},
   "outputs": [
    {
     "name": "stdout",
     "output_type": "stream",
     "text": [
      "[1, 2, 3, 4, 5, 5, 6, 4, 7]\n",
      "[1, 2, 3, 4, 5]\n",
      "[1, 2, 3, 4, 5, 'mithalesh', True]\n"
     ]
    }
   ],
   "source": [
    "def convertIntoList(*args):\n",
    "    return list(args)\n",
    "print(convertIntoList(1,2,3,4,5,5,6,4,7))\n",
    "print(convertIntoList(1,2,3,4,5))\n",
    "print(convertIntoList(1,2,3,4,5,\"mithalesh\",True))"
   ]
  },
  {
   "cell_type": "code",
   "execution_count": 8,
   "id": "9219e62e-a160-4447-bfc5-3787ff8919e4",
   "metadata": {},
   "outputs": [
    {
     "name": "stdout",
     "output_type": "stream",
     "text": [
      "6\n",
      "22\n",
      "36\n",
      "55\n"
     ]
    }
   ],
   "source": [
    "def addition(*args):\n",
    "    add=0\n",
    "    for i in args:\n",
    "        add+=i\n",
    "    return add\n",
    "print(addition(1,2,3))\n",
    "print(addition(4,5,6,7))\n",
    "print(addition(1,2,3,4,5,6,7,8))\n",
    "print(addition(1,2,3,4,5,6,7,8,9,10))\n",
    "      \n",
    "        "
   ]
  },
  {
   "cell_type": "markdown",
   "id": "e510ed72-bd6a-4a61-8748-631382117383",
   "metadata": {},
   "source": [
    "### Function for **kwargs :-"
   ]
  },
  {
   "cell_type": "code",
   "execution_count": 14,
   "id": "91c1e38f-f289-41b9-9236-97cf2ca95e65",
   "metadata": {},
   "outputs": [
    {
     "data": {
      "text/plain": [
       "{'name': 'mk', 'age': [18, 'mithalesh', True], 'course': 'bca'}"
      ]
     },
     "execution_count": 14,
     "metadata": {},
     "output_type": "execute_result"
    }
   ],
   "source": [
    "def dictionary(**args):            # It returns dictionary\n",
    "    return args\n",
    "\n",
    "dictionary(name=\"mk\",age=[18,\"mithalesh\",True],course=\"bca\")"
   ]
  },
  {
   "cell_type": "code",
   "execution_count": null,
   "id": "3a432298-1475-495b-8054-c32ad86eaa74",
   "metadata": {},
   "outputs": [],
   "source": []
  },
  {
   "cell_type": "markdown",
   "id": "cc3d9806-f201-4897-bea9-85360c91fbe4",
   "metadata": {},
   "source": [
    "# Q3.  What is an iterator in python? Name the method used to initialise the iterator object and the method used for iteration. Use these methods to print the first five elements of the given list [2, 4, 6, 8, 10, 12, 14, 16, 18, 20]"
   ]
  },
  {
   "cell_type": "markdown",
   "id": "2c7b1867-4b7f-420d-8237-7563cba1e4a6",
   "metadata": {},
   "source": [
    "### Ans :- Iterator is an object in the python language that is used to traverse the elemnt of list,tuple,string and even dictionary."
   ]
  },
  {
   "cell_type": "markdown",
   "id": "20ff520f-2fb8-4777-bb38-fc729b64cbfe",
   "metadata": {},
   "source": [
    "### iter() :- It is used to initialise the iterator.\n",
    "### next() :- It is used to iterate.\n"
   ]
  },
  {
   "cell_type": "code",
   "execution_count": 37,
   "id": "e86977fa-f782-4ded-a80a-446a56c08218",
   "metadata": {},
   "outputs": [
    {
     "name": "stdout",
     "output_type": "stream",
     "text": [
      "2\n",
      "4\n",
      "6\n",
      "8\n",
      "10\n"
     ]
    }
   ],
   "source": [
    "list1=[2, 4, 6, 8, 10, 12, 14, 16, 18, 20]\n",
    "\n",
    "mylist=iter(list1)\n",
    "print(next(mylist))\n",
    "print(next(mylist))\n",
    "print(next(mylist))\n",
    "print(next(mylist))\n",
    "print(next(mylist))"
   ]
  },
  {
   "cell_type": "markdown",
   "id": "429f9988-6694-4e2e-abb4-994ae8619a4d",
   "metadata": {},
   "source": [
    "# Q4.  What is a generator function in python? Why yield keyword is used? Give an example of a generator function"
   ]
  },
  {
   "cell_type": "markdown",
   "id": "3f158155-6aa2-476a-9299-71b2b4c910d9",
   "metadata": {},
   "source": [
    "### Ans:-Generators are useful when we want to produce a large sequence of values, but we don't want to store all of them in memory at once.\n",
    "### yeld keyword is know only the value only till the one of previous"
   ]
  },
  {
   "cell_type": "code",
   "execution_count": 32,
   "id": "29e309ff-8a6a-4c8e-8368-00ac88dcbefe",
   "metadata": {},
   "outputs": [],
   "source": [
    "def fibonacci(n):\n",
    "    a,b=0,1\n",
    "    for i in range(n):\n",
    "        yield a\n",
    "        a,b=b,a+b\n"
   ]
  },
  {
   "cell_type": "code",
   "execution_count": 33,
   "id": "b0e819dc-0cf2-4eab-80d2-da4d2dd3fa01",
   "metadata": {},
   "outputs": [
    {
     "name": "stdout",
     "output_type": "stream",
     "text": [
      "0\n",
      "1\n",
      "1\n",
      "2\n",
      "3\n",
      "5\n",
      "8\n",
      "13\n",
      "21\n",
      "34\n"
     ]
    }
   ],
   "source": [
    "for i in fibonacci(10):\n",
    "    print(i)"
   ]
  },
  {
   "cell_type": "markdown",
   "id": "3cd0e625-217e-471a-9d1b-160478efd330",
   "metadata": {},
   "source": [
    "# Q5. Create a generator function for prime numbers less than 1000. Use the next() method to print the first 20 prime numbers"
   ]
  },
  {
   "cell_type": "code",
   "execution_count": 39,
   "id": "8dd521f3-5cd7-48cb-b6b8-37d4f1ef45c1",
   "metadata": {},
   "outputs": [],
   "source": [
    "def prime(n):\n",
    "    for i in range(1,n+1):\n",
    "        k=0;\n",
    "        for j in range(2,i-1):\n",
    "            if(i%j==0):\n",
    "                k=1\n",
    "                break\n",
    "        if(k==0):\n",
    "            yield i\n",
    "                "
   ]
  },
  {
   "cell_type": "code",
   "execution_count": 49,
   "id": "e5420913-2b98-43c1-a067-4420b0126063",
   "metadata": {},
   "outputs": [
    {
     "name": "stdout",
     "output_type": "stream",
     "text": [
      "1\n",
      "2\n",
      "3\n",
      "5\n",
      "7\n",
      "11\n",
      "13\n",
      "17\n",
      "19\n",
      "23\n",
      "29\n"
     ]
    }
   ],
   "source": [
    "mytuple=iter(prime(1000))\n",
    "print(next(mytuple))\n",
    "print(next(mytuple))\n",
    "print(next(mytuple))\n",
    "print(next(mytuple))\n",
    "print(next(mytuple))\n",
    "print(next(mytuple))\n",
    "print(next(mytuple))\n",
    "print(next(mytuple))\n",
    "print(next(mytuple))\n",
    "print(next(mytuple))\n",
    "print(next(mytuple))"
   ]
  },
  {
   "cell_type": "code",
   "execution_count": null,
   "id": "0eb65af1-0c3d-44f2-ad84-a976b706eb5f",
   "metadata": {},
   "outputs": [],
   "source": []
  }
 ],
 "metadata": {
  "kernelspec": {
   "display_name": "Python 3 (ipykernel)",
   "language": "python",
   "name": "python3"
  },
  "language_info": {
   "codemirror_mode": {
    "name": "ipython",
    "version": 3
   },
   "file_extension": ".py",
   "mimetype": "text/x-python",
   "name": "python",
   "nbconvert_exporter": "python",
   "pygments_lexer": "ipython3",
   "version": "3.10.8"
  }
 },
 "nbformat": 4,
 "nbformat_minor": 5
}
