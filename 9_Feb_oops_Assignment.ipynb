{
 "cells": [
  {
   "cell_type": "markdown",
   "id": "c33632bd-cecd-4834-9a72-a1212e29cb58",
   "metadata": {},
   "source": [
    "### Q1, Create a vehicle class with an init method having instance variables as name_of_vehicle, max_speed and average_of_vehicle."
   ]
  },
  {
   "cell_type": "code",
   "execution_count": 5,
   "id": "d462e4a4-21cd-4c44-94ea-d8af03150e95",
   "metadata": {},
   "outputs": [],
   "source": [
    "class vehicle:\n",
    "    def __init__(self,name_of_vehicle,max_speed,average_of_vehicle):\n",
    "        self.name_of_vehicle=name_of_vehicle\n",
    "        self.max_speed=max_speed\n",
    "        self.average_of_vehicle=average_of_vehicle\n",
    "        \n",
    "        "
   ]
  },
  {
   "cell_type": "markdown",
   "id": "e84ced7f-5391-4206-beed-8c9f1fb21da6",
   "metadata": {},
   "source": [
    "### Q2. Create a child class car from the vehicle class created in Que 1, which will inherit the vehicle class. Create a method named seating_capacity which takes capacity as an argument and returns the name of the vehicle and its seating capacity."
   ]
  },
  {
   "cell_type": "code",
   "execution_count": 26,
   "id": "38ecef9e-9d93-4cf2-8633-120fd4a546ea",
   "metadata": {},
   "outputs": [],
   "source": [
    "class car(vehicle):\n",
    "    def seating_capacity(self,capacity):\n",
    "        return self.name_of_vehicle,capacity"
   ]
  },
  {
   "cell_type": "code",
   "execution_count": 29,
   "id": "5db56dbf-d48a-4b91-b0e8-7a4a13b42e7a",
   "metadata": {},
   "outputs": [],
   "source": [
    "obj=car(\"ODI\",400,160)"
   ]
  },
  {
   "cell_type": "code",
   "execution_count": 30,
   "id": "8eb8ff21-ec76-4451-9435-7e48c14ead3d",
   "metadata": {},
   "outputs": [
    {
     "data": {
      "text/plain": [
       "('ODI', 4)"
      ]
     },
     "execution_count": 30,
     "metadata": {},
     "output_type": "execute_result"
    }
   ],
   "source": [
    "obj.seating_capacity(4)"
   ]
  },
  {
   "cell_type": "markdown",
   "id": "d6d6c1ed-b1ad-4753-936b-58b58e458eed",
   "metadata": {},
   "source": [
    "\n",
    "\n",
    "### Q3. What is multiple inheritance? Write a python code to demonstrate multiple inheritance."
   ]
  },
  {
   "cell_type": "markdown",
   "id": "4647a2b1-bbcb-4ff3-bc06-20d256e00642",
   "metadata": {},
   "source": [
    "Multiple Inheritance :- In this one child class can have more one parent class."
   ]
  },
  {
   "cell_type": "code",
   "execution_count": 33,
   "id": "71f939e1-9b3e-4efe-b55b-2e29a7106701",
   "metadata": {},
   "outputs": [],
   "source": [
    "class parent1:\n",
    "    def function1(self):\n",
    "        print(\"this is parent1 class\")\n",
    "    \n",
    "class parent2:\n",
    "    def function2(self):\n",
    "        print(\"this is parent2 class\")\n",
    "\n",
    "class parent3:\n",
    "    def function3(self):\n",
    "        print(\"this is parent3 class\")\n",
    "\n",
    "class child(parent1,parent2,parent3):       # multiple inheritance\n",
    "    def function4(self):\n",
    "        print(\"this is child class\")"
   ]
  },
  {
   "cell_type": "code",
   "execution_count": 34,
   "id": "549334dc-c019-43ce-b205-2c7cca80fc69",
   "metadata": {},
   "outputs": [],
   "source": [
    "child_obj=child()"
   ]
  },
  {
   "cell_type": "code",
   "execution_count": 36,
   "id": "f98d111f-f759-4239-a978-5dadb25dd803",
   "metadata": {},
   "outputs": [
    {
     "name": "stdout",
     "output_type": "stream",
     "text": [
      "this is parent1 class\n",
      "this is parent2 class\n",
      "this is parent3 class\n",
      "this is child class\n"
     ]
    }
   ],
   "source": [
    "child_obj.function1()\n",
    "child_obj.function2()\n",
    "child_obj.function3()\n",
    "child_obj.function4()"
   ]
  },
  {
   "cell_type": "code",
   "execution_count": null,
   "id": "e604fca9-16fb-4f85-b170-47cb001563d9",
   "metadata": {},
   "outputs": [],
   "source": []
  },
  {
   "cell_type": "markdown",
   "id": "c713b4de-f670-44b0-9e6c-26f31c74fdc9",
   "metadata": {},
   "source": [
    "### Q4. What are getter and setter in python? Create a class and create a getter and a setter method in this class."
   ]
  },
  {
   "cell_type": "markdown",
   "id": "081e0b19-d85d-413c-b722-816bb29b60af",
   "metadata": {},
   "source": [
    "In the encapsulation concept we know that the variable can't be accessed by the user for the security purpose.for allow them to make changes in the method basically we use setter and \n",
    "getter concept."
   ]
  },
  {
   "cell_type": "code",
   "execution_count": 37,
   "id": "3388b67c-657a-437e-afae-db7fd06a0fe5",
   "metadata": {},
   "outputs": [],
   "source": [
    "class student:\n",
    "    def __init__(self,name,id,roll):\n",
    "        self.__name=name\n",
    "        self.__id=id\n",
    "        self.__roll=roll\n",
    "        \n",
    "    def set(self,name,id,roll):\n",
    "        self.__name=name\n",
    "        self.__id=id\n",
    "        self.__roll=roll\n",
    "    \n",
    "    def get(self):\n",
    "        return self.__name,self.__id,self.__roll\n",
    "        "
   ]
  },
  {
   "cell_type": "code",
   "execution_count": 38,
   "id": "1f6df258-7d2a-40f5-8cb9-3fd080bf8b8f",
   "metadata": {},
   "outputs": [],
   "source": [
    "student_obj=student(\"mithalesh\",78563,26)"
   ]
  },
  {
   "cell_type": "code",
   "execution_count": 39,
   "id": "0154c00a-69aa-4c44-b716-c3ab25302302",
   "metadata": {},
   "outputs": [
    {
     "data": {
      "text/plain": [
       "('mithalesh', 78563, 26)"
      ]
     },
     "execution_count": 39,
     "metadata": {},
     "output_type": "execute_result"
    }
   ],
   "source": [
    "student_obj.get()"
   ]
  },
  {
   "cell_type": "code",
   "execution_count": 41,
   "id": "ad6af038-4ace-4ff0-9a68-ff469055a4cf",
   "metadata": {},
   "outputs": [],
   "source": [
    "student_obj.set(\"Ranjana\",987348957,843)"
   ]
  },
  {
   "cell_type": "code",
   "execution_count": 43,
   "id": "6caf8b62-3281-46a0-ae64-e96289868478",
   "metadata": {},
   "outputs": [
    {
     "data": {
      "text/plain": [
       "('Ranjana', 987348957, 843)"
      ]
     },
     "execution_count": 43,
     "metadata": {},
     "output_type": "execute_result"
    }
   ],
   "source": [
    "student_obj.get()"
   ]
  },
  {
   "cell_type": "code",
   "execution_count": null,
   "id": "b78109df-93bd-4680-9a48-f99e6cadba77",
   "metadata": {},
   "outputs": [],
   "source": []
  },
  {
   "cell_type": "markdown",
   "id": "6330693d-d7df-4c56-b0bd-06e1cef1ee11",
   "metadata": {},
   "source": [
    "### Q5.What is method overriding in python? Write a python code to demonstrate method overriding."
   ]
  },
  {
   "cell_type": "markdown",
   "id": "06df57d9-043c-4c6a-a1a7-c1246cd3cea4",
   "metadata": {},
   "source": [
    "method overriding  :- Let suppose we created a class in which we defined method.Now this class is inherited to the some other class.if we will make change in this method then this \n",
    "concept id known as method overriding."
   ]
  },
  {
   "cell_type": "code",
   "execution_count": null,
   "id": "65de4f2d-e055-444c-bf85-c6f433cefe80",
   "metadata": {},
   "outputs": [],
   "source": [
    "class parent:\n",
    "    def add(a,b):\n",
    "        return a+b\n",
    "class child(parent):\n",
    "    def  add(a,b):\n",
    "        return a+b\n"
   ]
  }
 ],
 "metadata": {
  "kernelspec": {
   "display_name": "Python 3 (ipykernel)",
   "language": "python",
   "name": "python3"
  },
  "language_info": {
   "codemirror_mode": {
    "name": "ipython",
    "version": 3
   },
   "file_extension": ".py",
   "mimetype": "text/x-python",
   "name": "python",
   "nbconvert_exporter": "python",
   "pygments_lexer": "ipython3",
   "version": "3.10.8"
  }
 },
 "nbformat": 4,
 "nbformat_minor": 5
}
