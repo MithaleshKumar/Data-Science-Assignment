{
 "cells": [
  {
   "cell_type": "code",
   "execution_count": null,
   "id": "8586ebaa-f60a-4980-adda-756840837f93",
   "metadata": {},
   "outputs": [],
   "source": [
    "list1=[('Sachin Tendulkar', 34357), ('Ricky Ponting', 27483), ('Jack Kallis', 25534), ('Virat Kohli', 24936)]\n",
    "sorted_list=list(lambda x:)"
   ]
  },
  {
   "cell_type": "markdown",
   "id": "9ebcf911-5394-4334-8362-a48c2dcc0af4",
   "metadata": {},
   "source": [
    "## Q1. Write a Python Program to find the squares of all the numbers in the given list of integers using lambda and map functions.[1, 2, 3, 4, 5, 6, 7, 8, 9, 10"
   ]
  },
  {
   "cell_type": "code",
   "execution_count": 4,
   "id": "f6f31ff7-4142-4565-807d-fdd64c576f9e",
   "metadata": {},
   "outputs": [
    {
     "data": {
      "text/plain": [
       "[1, 4, 9, 16, 25, 36, 49, 64, 81, 100]"
      ]
     },
     "execution_count": 4,
     "metadata": {},
     "output_type": "execute_result"
    }
   ],
   "source": [
    "l=[1, 2, 3, 4, 5, 6, 7, 8, 9, 10]\n",
    "list(map(lambda x:x**2,l))\n"
   ]
  },
  {
   "cell_type": "markdown",
   "id": "6982cc1b-fd74-4e81-a9bb-f448f106b79d",
   "metadata": {},
   "source": [
    "## Q2. Write a python program to convert the given list of integers into a tuple of strings. Use map and lambda functions\n",
    "## Given String: [1, 2, 3, 4, 5, 6, 7, 8, 9, 10]\n",
    "## Expected output: ('1', '2', '3', '4', '5', '6', '7', '8', '9', '10')"
   ]
  },
  {
   "cell_type": "code",
   "execution_count": 10,
   "id": "c9ccc469-e581-4df0-97a1-455d2ebbc01e",
   "metadata": {},
   "outputs": [
    {
     "name": "stdout",
     "output_type": "stream",
     "text": [
      "('1', '2', '3', '4', '5', '6', '7', '8', '9', '10')\n"
     ]
    }
   ],
   "source": [
    "l=[1, 2, 3, 4, 5, 6, 7, 8, 9, 10]\n",
    "\n",
    "t=tuple(list(map(lambda x:str(x),l)))\n",
    "\n",
    "print(t)\n"
   ]
  },
  {
   "cell_type": "markdown",
   "id": "ebee18af-c2b4-4693-a4bd-00b10b5596a5",
   "metadata": {},
   "source": [
    "## Q3.  Write a python program using reduce function to compute the product of a list containing numbers from 1 to 25."
   ]
  },
  {
   "cell_type": "markdown",
   "id": "aea43279-22f2-4999-adc9-0820fcc4fe7a",
   "metadata": {},
   "source": [
    "from functools import reduce\n",
    "\n",
    "list1=[]\n",
    "for i in range(1,26):\n",
    "    list1.append(i)\n",
    "add=reduce(lambda x,y:x*y ,list1)\n",
    "print(add)\n"
   ]
  },
  {
   "cell_type": "markdown",
   "id": "78e45b42-39d9-438a-88e1-6013cb11d6f3",
   "metadata": {},
   "source": [
    "## Q4. Write a python program to filter the numbers in a given list that are divisible by 2 and 3 using the filter function. [2, 3, 6, 9, 27, 60, 90, 120, 55, 46"
   ]
  },
  {
   "cell_type": "code",
   "execution_count": 19,
   "id": "f932512d-fda9-437e-9136-cce9a107f783",
   "metadata": {},
   "outputs": [
    {
     "name": "stdout",
     "output_type": "stream",
     "text": [
      "[6, 60, 90, 120]\n"
     ]
    }
   ],
   "source": [
    "list1= [2, 3, 6, 9, 27, 60, 90, 120, 55, 46]\n",
    "f=list(filter(lambda x:(x%2==0 and x%3==0),list1))\n",
    "print(f)"
   ]
  },
  {
   "cell_type": "markdown",
   "id": "a16f72b9-b98d-4ec3-9a1f-d58026e440cf",
   "metadata": {},
   "source": [
    "## Q5. Write a python program to find palindromes in the given list of strings using lambda and filter function. ['python', 'php', 'aba', 'radar', 'level']"
   ]
  },
  {
   "cell_type": "code",
   "execution_count": 23,
   "id": "e3d775a1-e3ad-4cf2-82a3-55d5a4ad0841",
   "metadata": {},
   "outputs": [
    {
     "name": "stdout",
     "output_type": "stream",
     "text": [
      "['php', 'aba', 'radar', 'level']\n"
     ]
    }
   ],
   "source": [
    "\n",
    "list1=['python', 'php', 'aba', 'radar', 'level']\n",
    "\n",
    "palindrome=list(filter(lambda x:x==x[::-1],list1))\n",
    "\n",
    "print(palindrome)"
   ]
  },
  {
   "cell_type": "code",
   "execution_count": null,
   "id": "b0ac5bcb-5d29-4db7-9906-0fcca894439b",
   "metadata": {},
   "outputs": [],
   "source": []
  }
 ],
 "metadata": {
  "kernelspec": {
   "display_name": "Python 3 (ipykernel)",
   "language": "python",
   "name": "python3"
  },
  "language_info": {
   "codemirror_mode": {
    "name": "ipython",
    "version": 3
   },
   "file_extension": ".py",
   "mimetype": "text/x-python",
   "name": "python",
   "nbconvert_exporter": "python",
   "pygments_lexer": "ipython3",
   "version": "3.10.8"
  }
 },
 "nbformat": 4,
 "nbformat_minor": 5
}
